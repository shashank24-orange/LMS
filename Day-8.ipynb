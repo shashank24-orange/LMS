{
 "cells": [
  {
   "cell_type": "code",
   "execution_count": 1,
   "id": "a20d1e0f",
   "metadata": {},
   "outputs": [
    {
     "name": "stdout",
     "output_type": "stream",
     "text": [
      "Sentences:\n",
      "1: Natural Language Processing (NLP) is a fascinating field of Artificial Intelligence.\n",
      "2: It focuses on the interaction between humans and computers using natural language.\n",
      "3: Tokenization is one of the fundamental steps in NLP, where text is broken down into sentences or words.\n",
      "\n",
      "\n",
      "Words:\n",
      "['Natural', 'Language', 'Processing', '(', 'NLP', ')', 'is', 'a', 'fascinating', 'field', 'of', 'Artificial', 'Intelligence', '.', 'It', 'focuses', 'on', 'the', 'interaction', 'between', 'humans', 'and', 'computers', 'using', 'natural', 'language', '.', 'Tokenization', 'is', 'one', 'of', 'the', 'fundamental', 'steps', 'in', 'NLP', ',', 'where', 'text', 'is', 'broken', 'down', 'into', 'sentences', 'or', 'words', '.']\n"
     ]
    },
    {
     "name": "stderr",
     "output_type": "stream",
     "text": [
      "[nltk_data] Downloading package punkt to\n",
      "[nltk_data]     C:\\Users\\pulij\\AppData\\Roaming\\nltk_data...\n",
      "[nltk_data]   Package punkt is already up-to-date!\n"
     ]
    }
   ],
   "source": [
    "import nltk\n",
    "from nltk.tokenize import word_tokenize, sent_tokenize\n",
    "\n",
    "nltk.download('punkt')\n",
    "\n",
    "sample_paragraph = (\n",
    "    \"Natural Language Processing (NLP) is a fascinating field of Artificial Intelligence. \"\n",
    "    \"It focuses on the interaction between humans and computers using natural language. \"\n",
    "    \"Tokenization is one of the fundamental steps in NLP, where text is broken down into sentences or words.\"\n",
    ")\n",
    "\n",
    "def tokenize_sentences(paragraph):\n",
    "    return sent_tokenize(paragraph)\n",
    "\n",
    "def tokenize_words(paragraph):\n",
    "    return word_tokenize(paragraph)\n",
    "\n",
    "if __name__ == \"__main__\":\n",
    "    sentences = tokenize_sentences(sample_paragraph)\n",
    "    print(\"Sentences:\")\n",
    "    for idx, sentence in enumerate(sentences, 1):\n",
    "        print(f\"{idx}: {sentence}\")\n",
    "\n",
    "    print(\"\\n\")\n",
    "\n",
    "    words = tokenize_words(sample_paragraph)\n",
    "    print(\"Words:\")\n",
    "    print(words)\n"
   ]
  },
  {
   "cell_type": "code",
   "execution_count": null,
   "id": "6f207cbe",
   "metadata": {},
   "outputs": [],
   "source": []
  }
 ],
 "metadata": {
  "kernelspec": {
   "display_name": "Python 3 (ipykernel)",
   "language": "python",
   "name": "python3"
  },
  "language_info": {
   "codemirror_mode": {
    "name": "ipython",
    "version": 3
   },
   "file_extension": ".py",
   "mimetype": "text/x-python",
   "name": "python",
   "nbconvert_exporter": "python",
   "pygments_lexer": "ipython3",
   "version": "3.9.13"
  }
 },
 "nbformat": 4,
 "nbformat_minor": 5
}
