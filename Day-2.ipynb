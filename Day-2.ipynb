{
 "cells": [
  {
   "cell_type": "code",
   "execution_count": 4,
   "id": "0f268546",
   "metadata": {},
   "outputs": [
    {
     "name": "stdout",
     "output_type": "stream",
     "text": [
      "First element in the list: 10\n",
      "Third element in the list: 30\n",
      "Last element in the list: 50\n",
      "Elements from index 1 to 3: [20, 30, 40]\n"
     ]
    }
   ],
   "source": [
    "my_list = [10, 20, 30, 40, 50]\n",
    "\n",
    "print(f\"First element in the list: {my_list[0]}\")\n",
    "\n",
    "print(f\"Third element in the list: {my_list[2]}\")\n",
    "\n",
    "print(f\"Last element in the list: {my_list[-1]}\")\n",
    "\n",
    "print(f\"Elements from index 1 to 3: {my_list[1:4]}\")\n"
   ]
  },
  {
   "cell_type": "code",
   "execution_count": 5,
   "id": "9980b5e0",
   "metadata": {},
   "outputs": [
    {
     "name": "stdout",
     "output_type": "stream",
     "text": [
      "Second element in the tuple: 10\n",
      "Fourth element in the tuple: 20\n",
      "Last element in the tuple: 25\n",
      "Elements from index 2 to 4: (15, 20, 25)\n"
     ]
    }
   ],
   "source": [
    "my_tuple = (5, 10, 15, 20, 25)\n",
    "\n",
    "print(f\"Second element in the tuple: {my_tuple[1]}\")\n",
    "\n",
    "print(f\"Fourth element in the tuple: {my_tuple[3]}\")\n",
    "\n",
    "print(f\"Last element in the tuple: {my_tuple[-1]}\")\n",
    "\n",
    "print(f\"Elements from index 2 to 4: {my_tuple[2:5]}\")\n"
   ]
  },
  {
   "cell_type": "code",
   "execution_count": 6,
   "id": "d2708045",
   "metadata": {},
   "outputs": [
    {
     "name": "stdout",
     "output_type": "stream",
     "text": [
      "Age: 25\n",
      "City: New York\n",
      "Hobby: Reading\n",
      "Job: Engineer\n"
     ]
    }
   ],
   "source": [
    "my_dict = {\n",
    "    \"name\": \"maya\",\n",
    "    \"age\": 25,\n",
    "    \"city\": \"New York\",\n",
    "    \"job\": \"Engineer\",\n",
    "    \"hobby\": \"Reading\"\n",
    "}\n",
    "\n",
    "print(f\"Age: {my_dict['age']}\")\n",
    "\n",
    "print(f\"City: {my_dict['city']}\")\n",
    "\n",
    "print(f\"Hobby: {my_dict['hobby']}\")\n",
    "\n",
    "if \"job\" in my_dict:\n",
    "    print(f\"Job: {my_dict['job']}\")\n"
   ]
  },
  {
   "cell_type": "code",
   "execution_count": null,
   "id": "1625c8c7",
   "metadata": {},
   "outputs": [],
   "source": []
  },
  {
   "cell_type": "code",
   "execution_count": null,
   "id": "7dc415f7",
   "metadata": {},
   "outputs": [],
   "source": []
  }
 ],
 "metadata": {
  "kernelspec": {
   "display_name": "Python 3 (ipykernel)",
   "language": "python",
   "name": "python3"
  },
  "language_info": {
   "codemirror_mode": {
    "name": "ipython",
    "version": 3
   },
   "file_extension": ".py",
   "mimetype": "text/x-python",
   "name": "python",
   "nbconvert_exporter": "python",
   "pygments_lexer": "ipython3",
   "version": "3.9.13"
  }
 },
 "nbformat": 4,
 "nbformat_minor": 5
}
