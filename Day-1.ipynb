{
 "cells": [
  {
   "cell_type": "code",
   "execution_count": 1,
   "id": "da7eebd2",
   "metadata": {},
   "outputs": [
    {
     "name": "stdout",
     "output_type": "stream",
     "text": [
      "Integer variable: 10, Type: <class 'int'>\n"
     ]
    }
   ],
   "source": [
    "integer_var = 10\n",
    "print(f\"Integer variable: {integer_var}, Type: {type(integer_var)}\")"
   ]
  },
  {
   "cell_type": "code",
   "execution_count": 2,
   "id": "05299530",
   "metadata": {},
   "outputs": [
    {
     "name": "stdout",
     "output_type": "stream",
     "text": [
      "Float variable: 3.14, Type: <class 'float'>\n"
     ]
    }
   ],
   "source": [
    "float_var = 3.14\n",
    "print(f\"Float variable: {float_var}, Type: {type(float_var)}\")"
   ]
  },
  {
   "cell_type": "code",
   "execution_count": null,
   "id": "87f44e06",
   "metadata": {},
   "outputs": [],
   "source": []
  }
 ],
 "metadata": {
  "kernelspec": {
   "display_name": "Python 3 (ipykernel)",
   "language": "python",
   "name": "python3"
  },
  "language_info": {
   "codemirror_mode": {
    "name": "ipython",
    "version": 3
   },
   "file_extension": ".py",
   "mimetype": "text/x-python",
   "name": "python",
   "nbconvert_exporter": "python",
   "pygments_lexer": "ipython3",
   "version": "3.9.13"
  }
 },
 "nbformat": 4,
 "nbformat_minor": 5
}
