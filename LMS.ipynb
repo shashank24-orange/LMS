{
  "nbformat": 4,
  "nbformat_minor": 0,
  "metadata": {
    "colab": {
      "provenance": [],
      "authorship_tag": "ABX9TyMcg3dvboSzWFc4v53+FXyH",
      "include_colab_link": true
    },
    "kernelspec": {
      "name": "python3",
      "display_name": "Python 3"
    },
    "language_info": {
      "name": "python"
    }
  },
  "cells": [
    {
      "cell_type": "markdown",
      "metadata": {
        "id": "view-in-github",
        "colab_type": "text"
      },
      "source": [
        "<a href=\"https://colab.research.google.com/github/shashank24-orange/LMS/blob/main/LMS.ipynb\" target=\"_parent\"><img src=\"https://colab.research.google.com/assets/colab-badge.svg\" alt=\"Open In Colab\"/></a>"
      ]
    },
    {
      "cell_type": "code",
      "execution_count": 1,
      "metadata": {
        "colab": {
          "base_uri": "https://localhost:8080/"
        },
        "id": "sEBbnY3lOJNE",
        "outputId": "7bfe9f72-13d7-4098-c6af-c5b799b8e94e"
      },
      "outputs": [
        {
          "output_type": "stream",
          "name": "stdout",
          "text": [
            "Enter marks for subject 1: 90\n",
            "Enter marks for subject 2: 85\n",
            "Enter marks for subject 3: 70\n",
            "Grade: B\n"
          ]
        }
      ],
      "source": [
        "#Day -3\n",
        "#Write a Python program that takes a student's marks in three subjects as input.\n",
        "#If the average is greater than or equal to 90, print \"Grade: A\".\n",
        "#If the average is between 80 and 89, print \"Grade: B\".\n",
        "#If the average is between 70 and 79, print \"Grade: C\".\n",
        "#Otherwise, print \"Grade: Fail\".\n",
        "\n",
        "\n",
        "\n",
        "\n",
        "marks1 = float(input(\"Enter marks for subject 1: \"))\n",
        "marks2 = float(input(\"Enter marks for subject 2: \"))\n",
        "marks3 = float(input(\"Enter marks for subject 3: \"))\n",
        "\n",
        "average = (marks1 + marks2 + marks3) / 3\n",
        "\n",
        "if average >= 90:\n",
        "    print(\"Grade: A\")\n",
        "elif 80 <= average < 90:\n",
        "    print(\"Grade: B\")\n",
        "elif 70 <= average < 80:\n",
        "    print(\"Grade: C\")\n",
        "else:\n",
        "    print(\"Grade: Fail\")"
      ]
    },
    {
      "cell_type": "code",
      "source": [
        "#Day-4\n",
        "#2.Write a Python program to calculate the sum of all even numbers between 1 and a given positive integer n\n",
        "\n",
        "def even(n):\n",
        "    total = 0\n",
        "    for i in range(2, n+1, 2):\n",
        "        total += i\n",
        "    return total\n",
        "n = int(input(\"Enter a positive integer: \"))\n",
        "if n > 0:\n",
        "    result = even(n)\n",
        "    print(f\"The sum of all even numbers between 1 and {n} is: {result}\")\n",
        "else:\n",
        "    print(\"Please enter a positive integer.\")"
      ],
      "metadata": {
        "colab": {
          "base_uri": "https://localhost:8080/"
        },
        "id": "qDadABjePGVe",
        "outputId": "b8e6e4e6-fd3f-4158-de60-bb6c45c3fdf6"
      },
      "execution_count": 2,
      "outputs": [
        {
          "output_type": "stream",
          "name": "stdout",
          "text": [
            "Enter a positive integer: 4\n",
            "The sum of all even numbers between 1 and 4 is: 6\n"
          ]
        }
      ]
    },
    {
      "cell_type": "code",
      "source": [],
      "metadata": {
        "id": "yk1IDPv7PVVx"
      },
      "execution_count": null,
      "outputs": []
    }
  ]
}